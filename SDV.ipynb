{
 "cells": [
  {
   "cell_type": "code",
   "execution_count": null,
   "id": "eef93526",
   "metadata": {},
   "outputs": [],
   "source": [
    "import pandas as pd\n",
    "import matplotlib.pyplot as plt\n",
    "from sdv.single_table import CTGANSynthesizer\n",
    "from sdv.metadata import SingleTableMetadata"
   ]
  },
  {
   "cell_type": "markdown",
   "id": "e08cdf95",
   "metadata": {},
   "source": [
    "Leer el archivo CSV que contiene los datos históricos de las pizzas"
   ]
  },
  {
   "cell_type": "code",
   "execution_count": null,
   "id": "ed80d2b7",
   "metadata": {},
   "outputs": [],
   "source": [
    "df_pizzas = pd.read_csv(r'Datawarehouse\\pizzas_normales.csv')"
   ]
  },
  {
   "cell_type": "markdown",
   "id": "a0705b25",
   "metadata": {},
   "source": [
    "Agrupar los datos por fecha y sumar las unidades totales vendidas por mes"
   ]
  },
  {
   "cell_type": "code",
   "execution_count": null,
   "id": "9a35a620",
   "metadata": {},
   "outputs": [],
   "source": [
    "pizzas_mes = df_pizzas.groupby('fecha')['unidades_total'].sum().reset_index()\n",
    "pizzas_mes"
   ]
  },
  {
   "cell_type": "markdown",
   "id": "55986537",
   "metadata": {},
   "source": [
    "Crear una instancia de `SingleTableMetadata` y detectar la estructura del dataframe `pizzas_mes`"
   ]
  },
  {
   "cell_type": "code",
   "execution_count": null,
   "id": "268ee239",
   "metadata": {},
   "outputs": [],
   "source": [
    "metadata = SingleTableMetadata()\n",
    "metadata.detect_from_dataframe(pizzas_mes)"
   ]
  },
  {
   "cell_type": "markdown",
   "id": "8ff7206d",
   "metadata": {},
   "source": [
    "Crear una instancia de `CTGANSynthesizer` con los metadatos y entrenar el modelo con los datos históricos"
   ]
  },
  {
   "cell_type": "code",
   "execution_count": null,
   "id": "4a232cd9",
   "metadata": {},
   "outputs": [],
   "source": [
    "synthesizer = CTGANSynthesizer(metadata, epochs=1000)\n",
    "synthesizer.fit(pizzas_mes)"
   ]
  },
  {
   "cell_type": "markdown",
   "id": "dcc1be93",
   "metadata": {},
   "source": [
    "Generar nuevos datos sintéticos para los periodos anteriores especificados"
   ]
  },
  {
   "cell_type": "code",
   "execution_count": null,
   "id": "21a51fc5",
   "metadata": {},
   "outputs": [],
   "source": [
    "fechas_completas = pd.date_range(start='2022-01-01', end='2022-12-01', freq='MS')\n",
    "df_sintetico = synthesizer.sample(num_rows=len(fechas_completas))\n",
    "\n",
    "# Asignar las fechas completas a los datos sintéticos\n",
    "df_sintetico['fecha'] = fechas_completas"
   ]
  },
  {
   "cell_type": "markdown",
   "id": "57af5d5e",
   "metadata": {},
   "source": [
    "Convertir la columna 'fecha' a tipo datetime si aún no lo está en ambos dataframes y combinar los datos originales con los sintéticos"
   ]
  },
  {
   "cell_type": "code",
   "execution_count": null,
   "id": "da1792df",
   "metadata": {},
   "outputs": [],
   "source": [
    "pizzas_mes['fecha'] = pd.to_datetime(pizzas_mes['fecha'])\n",
    "df_sintetico['fecha'] = pd.to_datetime(df_sintetico['fecha'])\n",
    "df_combinado = pd.concat([pizzas_mes, df_sintetico]).sort_values('fecha').reset_index(drop=True)\n",
    "df_combinado"
   ]
  },
  {
   "cell_type": "markdown",
   "id": "a507c97f",
   "metadata": {},
   "source": [
    "Crear un gráfico de barras para visualizar las unidades totales vendidas por mes"
   ]
  },
  {
   "cell_type": "code",
   "execution_count": null,
   "id": "3ec7f900",
   "metadata": {},
   "outputs": [],
   "source": [
    "plt.figure(figsize=(8, 6))\n",
    "plt.bar(df_combinado['fecha'], df_combinado['unidades_total'], color='skyblue')\n",
    "\n",
    "# Personalizar el gráfico\n",
    "plt.xlabel('Mes')\n",
    "plt.ylabel('Unidades Totales')\n",
    "plt.title('Unidades Totales por Mes')\n",
    "plt.xticks(rotation=45)  # Rotar las etiquetas del eje x para mejor visualización si es necesario\n",
    "\n",
    "# Mostrar el gráfico\n",
    "plt.tight_layout()\n",
    "plt.show()"
   ]
  },
  {
   "cell_type": "markdown",
   "id": "ae581f05",
   "metadata": {},
   "source": [
    "Guardar el dataframe combinado en un nuevo archivo CSV"
   ]
  },
  {
   "cell_type": "code",
   "execution_count": null,
   "id": "d1c6f4c7",
   "metadata": {},
   "outputs": [],
   "source": [
    "df_combinado.to_csv(r'Datawarehouse\\pizzas_normales_sd.csv', index=False)"
   ]
  }
 ],
 "metadata": {
  "jupytext": {
   "cell_metadata_filter": "-all",
   "main_language": "python",
   "notebook_metadata_filter": "-all"
  },
  "kernelspec": {
   "display_name": "Python 3",
   "language": "python",
   "name": "python3"
  },
  "language_info": {
   "name": "python",
   "version": "3.10.11"
  }
 },
 "nbformat": 4,
 "nbformat_minor": 5
}
