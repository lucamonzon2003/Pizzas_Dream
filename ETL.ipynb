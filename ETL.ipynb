{
 "cells": [
  {
   "cell_type": "markdown",
   "id": "beb51860",
   "metadata": {},
   "source": [
    "# Importaciones"
   ]
  },
  {
   "cell_type": "code",
   "execution_count": null,
   "id": "42e1d1e9",
   "metadata": {},
   "outputs": [],
   "source": [
    "import pandas as pd\n",
    "import xlrd"
   ]
  },
  {
   "cell_type": "markdown",
   "id": "898277a1",
   "metadata": {},
   "source": [
    "# ETL"
   ]
  },
  {
   "cell_type": "markdown",
   "id": "456636f5",
   "metadata": {},
   "source": [
    "## Carga de datos y unión"
   ]
  },
  {
   "cell_type": "code",
   "execution_count": null,
   "id": "0ec332f2",
   "metadata": {},
   "outputs": [],
   "source": [
    "# Leer los archivos Excel y añadir una columna 'fecha' con la fecha correspondiente al primer día del mes\n",
    "data_enero = pd.read_excel(r'Datalake\\enero.xls')\n",
    "data_enero['fecha'] = pd.to_datetime('2023-01-01')\n",
    "\n",
    "data_febrero = pd.read_excel(r'Datalake\\febrero.xls')\n",
    "data_febrero['fecha'] = pd.to_datetime('2023-02-01')\n",
    "\n",
    "data_marzo = pd.read_excel(r'Datalake\\marzo.xls')\n",
    "data_marzo['fecha'] = pd.to_datetime('2023-03-01')\n",
    "\n",
    "data_abril = pd.read_excel(r'Datalake\\abril.xls')\n",
    "data_abril['fecha'] = pd.to_datetime('2023-04-01')\n",
    "\n",
    "data_mayo = pd.read_excel(r'Datalake\\mayo.xls')\n",
    "data_mayo['fecha'] = pd.to_datetime('2023-05-01')"
   ]
  },
  {
   "cell_type": "code",
   "execution_count": null,
   "id": "f7ad9f5c",
   "metadata": {},
   "outputs": [],
   "source": [
    "# Combinar todos los dataframes en uno solo\n",
    "df_data = pd.concat([data_enero, data_febrero, data_marzo, data_abril, data_mayo], ignore_index=True)"
   ]
  },
  {
   "cell_type": "code",
   "execution_count": null,
   "id": "288ea712",
   "metadata": {},
   "outputs": [],
   "source": [
    "# Seleccionamos las columnas de interés\n",
    "df_data = df_data[['codigo', 'nombre', 'unidades', 'venta', 'fecha']]\n",
    "\n",
    "# Convertir la columna 'fecha' a tipo datetime y crear una columna 'mes'\n",
    "df_data['fecha'] = pd.to_datetime(df_data['fecha'])\n",
    "df_data['mes'] = df_data['fecha'].dt.month_name()"
   ]
  },
  {
   "cell_type": "code",
   "execution_count": null,
   "id": "f62bc256",
   "metadata": {},
   "outputs": [],
   "source": [
    "# Mostrar información general del DataFrame y las primeras filas\n",
    "print(df_data.info())\n",
    "df_data.head()"
   ]
  },
  {
   "cell_type": "markdown",
   "id": "b31a0f66",
   "metadata": {},
   "source": [
    "## Correcciones de nombres"
   ]
  },
  {
   "cell_type": "code",
   "execution_count": null,
   "id": "c148f317",
   "metadata": {},
   "outputs": [],
   "source": [
    "# Corregir mayúsculas y minúsculas en la columna 'nombre'\n",
    "df_data['nombre'] = df_data['nombre'].str.capitalize()\n",
    "\n",
    "# Usar replace() para eliminar los puntos en la columna 'nombre'\n",
    "df_data['nombre'] = df_data['nombre'].str.replace('.', '')"
   ]
  },
  {
   "cell_type": "code",
   "execution_count": null,
   "id": "3494d9eb",
   "metadata": {},
   "outputs": [],
   "source": [
    "# Reemplazar nombres específicos para normalización\n",
    "df_data['nombre'] = df_data['nombre'].str.replace('Pesto brie cherry ch', 'Pesto cherry brie ch')\n",
    "df_data['nombre'] = df_data['nombre'].str.replace('Salchi a caballo mitad', 'Salchichas a caballo ch')"
   ]
  },
  {
   "cell_type": "code",
   "execution_count": null,
   "id": "84bc108f",
   "metadata": {},
   "outputs": [],
   "source": [
    "# Filtrar y eliminar registros con nombres específicos que no queremos\n",
    "df_data = df_data[df_data['nombre'] != 'A caballo']\n",
    "df_data = df_data[df_data['nombre'] != 'Piza mitad y mitad']\n",
    "df_data = df_data[df_data['nombre'] != 'Promo 5 precocidas']"
   ]
  },
  {
   "cell_type": "markdown",
   "id": "6097143b",
   "metadata": {},
   "source": [
    "## Pizzas \"Normales\" y \"Especiales\""
   ]
  },
  {
   "cell_type": "code",
   "execution_count": null,
   "id": "ddca3561",
   "metadata": {
    "lines_to_next_cell": 1
   },
   "outputs": [],
   "source": [
    "# Lista de nombres de interés para pizzas especiales\n",
    "nombres_interes = [\n",
    "    'Degustacion de pizzetas', 'Tacc especial', 'Tacc fugazzeta', 'Tacc hace tu pizza', 'Tacc jamon',\n",
    "    'Tacc marga napo', 'Tacc margarita', 'Tacc muzzarella', 'Tacc napo jamon', 'Tacc napolitana',\n",
    "    'Tacc rucula', 'Vegana hace tu pizza', 'Vegana pizza especial', 'Vegana pizza muzza'\n",
    "]\n",
    "\n",
    "# Filtrar el DataFrame por los nombres de interés para separar las pizzas especiales\n",
    "df_especiales = df_data[df_data['nombre'].isin(nombres_interes)]\n",
    "\n",
    "# Filtrar el DataFrame para obtener las pizzas normales\n",
    "df_normales = df_data[~df_data['nombre'].isin(nombres_interes)]"
   ]
  },
  {
   "cell_type": "code",
   "execution_count": null,
   "id": "1a6ef840",
   "metadata": {
    "lines_to_next_cell": 1
   },
   "outputs": [],
   "source": [
    "# Función para combinar registros de pizzas normales\n",
    "def combinar_registros(df):\n",
    "    # Extraer el nombre base de la pizza\n",
    "    df['nombre_pizza'] = df['nombre'].str[:-3]  # Eliminar los últimos 3 caracteres (incluyendo el espacio antes de 'gr' o 'ch')\n",
    "    \n",
    "    # Crear listas vacías para almacenar los datos combinados\n",
    "    registros_combinados = []\n",
    "\n",
    "    # Iterar sobre cada nombre base de pizza único\n",
    "    for nombre_pizza in df['nombre_pizza'].unique():\n",
    "        # Filtrar registros para el nombre base de la pizza actual\n",
    "        df_pizza = df[df['nombre_pizza'] == nombre_pizza]\n",
    "        \n",
    "        # Iterar sobre cada mes único\n",
    "        for mes in df_pizza['mes'].unique():\n",
    "            # Filtrar registros para el nombre base de la pizza y mes actual\n",
    "            df_pizza_mes = df_pizza[df_pizza['mes'] == mes]\n",
    "            \n",
    "            # Encontrar las unidades y ventas de 'gr' y 'ch' para el mes actual\n",
    "            unidades_gr = df_pizza_mes[df_pizza_mes['nombre'].str.endswith('gr')]['unidades'].sum()\n",
    "            unidades_ch = df_pizza_mes[df_pizza_mes['nombre'].str.endswith('ch')]['unidades'].sum()\n",
    "            venta_gr = df_pizza_mes[df_pizza_mes['nombre'].str.endswith('gr')]['venta'].sum()\n",
    "            venta_ch = df_pizza_mes[df_pizza_mes['nombre'].str.endswith('ch')]['venta'].sum()\n",
    "\n",
    "            # Calcular las unidades y ventas totales\n",
    "            unidades_total = unidades_gr + unidades_ch\n",
    "            venta_total = venta_gr + venta_ch\n",
    "            \n",
    "            # Tomar solo un registro como base, ya que deberían ser iguales para la misma pizza y mes\n",
    "            base_registro = df_pizza_mes.iloc[0]\n",
    "            \n",
    "            # Crear un diccionario con la información combinada por mes\n",
    "            registro_combinado = {\n",
    "                'codigo': base_registro['codigo'],\n",
    "                'nombre': nombre_pizza,\n",
    "                'fecha': base_registro['fecha'],\n",
    "                'mes': mes,\n",
    "                'unidades_gr': unidades_gr,\n",
    "                'unidades_ch': unidades_ch,\n",
    "                'venta_gr': venta_gr,\n",
    "                'venta_ch': venta_ch,\n",
    "                'unidades_total': unidades_total,\n",
    "                'venta_total': venta_total\n",
    "            }\n",
    "            \n",
    "            # Agregar el registro combinado a la lista\n",
    "            registros_combinados.append(registro_combinado)\n",
    "    \n",
    "    # Convertir la lista de registros combinados en un DataFrame\n",
    "    df_combinado = pd.DataFrame(registros_combinados)\n",
    "    \n",
    "    return df_combinado"
   ]
  },
  {
   "cell_type": "code",
   "execution_count": null,
   "id": "1c5a8bdf",
   "metadata": {},
   "outputs": [],
   "source": [
    "# Ejemplo de uso de la función para combinar registros de pizzas normales\n",
    "df_normales = combinar_registros(df_normales)"
   ]
  },
  {
   "cell_type": "markdown",
   "id": "b6444be9",
   "metadata": {},
   "source": [
    "## Carga al Datawarehouse"
   ]
  },
  {
   "cell_type": "code",
   "execution_count": null,
   "id": "30cd53ff",
   "metadata": {},
   "outputs": [],
   "source": [
    "# Guardar los DataFrames resultantes en archivos CSV\n",
    "df_normales.to_csv(r'Datawarehouse\\pizzas_normales.csv', index=False)\n",
    "df_especiales.to_csv(r'Datawarehouse\\pizzas_especiales.csv', index=False)"
   ]
  }
 ],
 "metadata": {
  "jupytext": {
   "cell_metadata_filter": "-all",
   "main_language": "python",
   "notebook_metadata_filter": "-all"
  }
 },
 "nbformat": 4,
 "nbformat_minor": 5
}
