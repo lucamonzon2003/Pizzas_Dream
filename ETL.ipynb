{
 "cells": [
  {
   "cell_type": "markdown",
   "metadata": {},
   "source": [
    "# Importaciones"
   ]
  },
  {
   "cell_type": "code",
   "execution_count": 1,
   "metadata": {},
   "outputs": [],
   "source": [
    "import pandas as pd\n",
    "import xlrd"
   ]
  },
  {
   "cell_type": "markdown",
   "metadata": {},
   "source": [
    "# ETL"
   ]
  },
  {
   "cell_type": "markdown",
   "metadata": {},
   "source": [
    "## Carga de datos y union"
   ]
  },
  {
   "cell_type": "code",
   "execution_count": 2,
   "metadata": {},
   "outputs": [
    {
     "name": "stdout",
     "output_type": "stream",
     "text": [
      "WARNING *** file size (31123) not 512 + multiple of sector size (512)\n",
      "WARNING *** OLE2 inconsistency: SSCS size is 0 but SSAT size is non-zero\n",
      "*** No CODEPAGE record, no encoding_override: will use 'iso-8859-1'\n",
      "WARNING *** file size (33339) not 512 + multiple of sector size (512)\n",
      "WARNING *** OLE2 inconsistency: SSCS size is 0 but SSAT size is non-zero\n",
      "*** No CODEPAGE record, no encoding_override: will use 'iso-8859-1'\n",
      "WARNING *** file size (32080) not 512 + multiple of sector size (512)\n",
      "WARNING *** OLE2 inconsistency: SSCS size is 0 but SSAT size is non-zero\n",
      "*** No CODEPAGE record, no encoding_override: will use 'iso-8859-1'\n",
      "WARNING *** file size (30924) not 512 + multiple of sector size (512)\n",
      "WARNING *** OLE2 inconsistency: SSCS size is 0 but SSAT size is non-zero\n",
      "*** No CODEPAGE record, no encoding_override: will use 'iso-8859-1'\n",
      "WARNING *** file size (30235) not 512 + multiple of sector size (512)\n",
      "WARNING *** OLE2 inconsistency: SSCS size is 0 but SSAT size is non-zero\n",
      "*** No CODEPAGE record, no encoding_override: will use 'iso-8859-1'\n"
     ]
    }
   ],
   "source": [
    "# Leer los archivos Excel y añadir una columna 'fecha' con la fecha correspondiente al primer día del mes\n",
    "data_enero = pd.read_excel(r'Datalake\\enero.xls')\n",
    "data_enero['fecha'] = pd.to_datetime('2023-01-01')\n",
    "\n",
    "data_febrero = pd.read_excel(r'Datalake\\febrero.xls')\n",
    "data_febrero['fecha'] = pd.to_datetime('2023-02-01')\n",
    "\n",
    "data_marzo = pd.read_excel(r'Datalake\\marzo.xls')\n",
    "data_marzo['fecha'] = pd.to_datetime('2023-03-01')\n",
    "\n",
    "data_abril = pd.read_excel(r'Datalake\\abril.xls')\n",
    "data_abril['fecha'] = pd.to_datetime('2023-04-01')\n",
    "\n",
    "data_mayo = pd.read_excel(r'Datalake\\mayo.xls')\n",
    "data_mayo['fecha'] = pd.to_datetime('2023-05-01')\n"
   ]
  },
  {
   "cell_type": "code",
   "execution_count": 3,
   "metadata": {},
   "outputs": [],
   "source": [
    "# Combinar todos los dataframes en uno solo\n",
    "df_data = pd.concat([data_enero, data_febrero, data_marzo, data_abril, data_mayo], ignore_index=True)"
   ]
  },
  {
   "cell_type": "code",
   "execution_count": 4,
   "metadata": {},
   "outputs": [],
   "source": [
    "df_data = df_data[['codigo', 'nombre', 'unidades', 'venta', 'fecha']]\n",
    "\n",
    "# Convertir la columna 'fecha' a tipo datetime y crear una columna 'mes'\n",
    "df_data['fecha'] = pd.to_datetime(df_data['fecha'])\n",
    "df_data['mes'] = df_data['fecha'].dt.month_name()"
   ]
  },
  {
   "cell_type": "code",
   "execution_count": 5,
   "metadata": {},
   "outputs": [
    {
     "name": "stdout",
     "output_type": "stream",
     "text": [
      "<class 'pandas.core.frame.DataFrame'>\n",
      "RangeIndex: 771 entries, 0 to 770\n",
      "Data columns (total 6 columns):\n",
      " #   Column    Non-Null Count  Dtype         \n",
      "---  ------    --------------  -----         \n",
      " 0   codigo    771 non-null    int64         \n",
      " 1   nombre    771 non-null    object        \n",
      " 2   unidades  771 non-null    float64       \n",
      " 3   venta     771 non-null    float64       \n",
      " 4   fecha     771 non-null    datetime64[ns]\n",
      " 5   mes       771 non-null    object        \n",
      "dtypes: datetime64[ns](1), float64(2), int64(1), object(2)\n",
      "memory usage: 36.3+ KB\n",
      "None\n"
     ]
    },
    {
     "data": {
      "text/html": [
       "<div>\n",
       "<style scoped>\n",
       "    .dataframe tbody tr th:only-of-type {\n",
       "        vertical-align: middle;\n",
       "    }\n",
       "\n",
       "    .dataframe tbody tr th {\n",
       "        vertical-align: top;\n",
       "    }\n",
       "\n",
       "    .dataframe thead th {\n",
       "        text-align: right;\n",
       "    }\n",
       "</style>\n",
       "<table border=\"1\" class=\"dataframe\">\n",
       "  <thead>\n",
       "    <tr style=\"text-align: right;\">\n",
       "      <th></th>\n",
       "      <th>codigo</th>\n",
       "      <th>nombre</th>\n",
       "      <th>unidades</th>\n",
       "      <th>venta</th>\n",
       "      <th>fecha</th>\n",
       "      <th>mes</th>\n",
       "    </tr>\n",
       "  </thead>\n",
       "  <tbody>\n",
       "    <tr>\n",
       "      <th>0</th>\n",
       "      <td>350</td>\n",
       "      <td>Mozzarella Gr.</td>\n",
       "      <td>276.0</td>\n",
       "      <td>1832032.51</td>\n",
       "      <td>2023-01-01</td>\n",
       "      <td>January</td>\n",
       "    </tr>\n",
       "    <tr>\n",
       "      <th>1</th>\n",
       "      <td>351</td>\n",
       "      <td>Fugazzeta Gr.</td>\n",
       "      <td>114.0</td>\n",
       "      <td>824752.44</td>\n",
       "      <td>2023-01-01</td>\n",
       "      <td>January</td>\n",
       "    </tr>\n",
       "    <tr>\n",
       "      <th>2</th>\n",
       "      <td>352</td>\n",
       "      <td>Fugazza Gr.</td>\n",
       "      <td>3.0</td>\n",
       "      <td>21500.00</td>\n",
       "      <td>2023-01-01</td>\n",
       "      <td>January</td>\n",
       "    </tr>\n",
       "    <tr>\n",
       "      <th>3</th>\n",
       "      <td>353</td>\n",
       "      <td>Jamon Gr.</td>\n",
       "      <td>79.0</td>\n",
       "      <td>571000.00</td>\n",
       "      <td>2023-01-01</td>\n",
       "      <td>January</td>\n",
       "    </tr>\n",
       "    <tr>\n",
       "      <th>4</th>\n",
       "      <td>354</td>\n",
       "      <td>Napolitana Gr.</td>\n",
       "      <td>181.5</td>\n",
       "      <td>1308785.44</td>\n",
       "      <td>2023-01-01</td>\n",
       "      <td>January</td>\n",
       "    </tr>\n",
       "  </tbody>\n",
       "</table>\n",
       "</div>"
      ],
      "text/plain": [
       "   codigo          nombre  unidades       venta      fecha      mes\n",
       "0     350  Mozzarella Gr.     276.0  1832032.51 2023-01-01  January\n",
       "1     351   Fugazzeta Gr.     114.0   824752.44 2023-01-01  January\n",
       "2     352     Fugazza Gr.       3.0    21500.00 2023-01-01  January\n",
       "3     353       Jamon Gr.      79.0   571000.00 2023-01-01  January\n",
       "4     354  Napolitana Gr.     181.5  1308785.44 2023-01-01  January"
      ]
     },
     "execution_count": 5,
     "metadata": {},
     "output_type": "execute_result"
    }
   ],
   "source": [
    "print(df_data.info())\n",
    "df_data.head()"
   ]
  },
  {
   "cell_type": "markdown",
   "metadata": {},
   "source": [
    "## Correciones de nombres"
   ]
  },
  {
   "cell_type": "code",
   "execution_count": 6,
   "metadata": {},
   "outputs": [],
   "source": [
    "# Corregir mayúsculas y minúsculas\n",
    "df_data['nombre'] = df_data['nombre'].str.capitalize()\n",
    "\n",
    "# Usar replace() para eliminar los puntos\n",
    "df_data['nombre'] = df_data['nombre'].str.replace('.', '')"
   ]
  },
  {
   "cell_type": "code",
   "execution_count": 7,
   "metadata": {},
   "outputs": [],
   "source": [
    "df_data['nombre'] = df_data['nombre'].str.replace('Pesto brie cherry ch', 'Pesto cherry brie ch')\n",
    "df_data['nombre'] = df_data['nombre'].str.replace('Salchi a caballo mitad', 'Salchichas a caballo ch')"
   ]
  },
  {
   "cell_type": "code",
   "execution_count": 8,
   "metadata": {},
   "outputs": [],
   "source": [
    "df_data = df_data[df_data['nombre'] != 'A caballo']\n",
    "df_data = df_data[df_data['nombre'] != 'Piza mitad y mitad']\n",
    "df_data = df_data[df_data['nombre'] != 'Promo 5 precocidas']"
   ]
  },
  {
   "cell_type": "markdown",
   "metadata": {},
   "source": [
    "## Pizzas \"Normales\" y \"Especiales\""
   ]
  },
  {
   "cell_type": "code",
   "execution_count": 9,
   "metadata": {},
   "outputs": [],
   "source": [
    "# Lista de nombres de interés\n",
    "nombres_interes = [\n",
    "    'Degustacion de pizzetas', 'Tacc especial', 'Tacc fugazzeta', 'Tacc hace tu pizza', 'Tacc jamon',\n",
    "    'Tacc marga napo', 'Tacc margarita', 'Tacc muzzarella', 'Tacc napo jamon', 'Tacc napolitana',\n",
    "    'Tacc rucula', 'Vegana hace tu pizza', 'Vegana pizza especial', 'Vegana pizza muzza'\n",
    "]\n",
    "\n",
    "# Filtrar el DataFrame por los nombres de interés\n",
    "df_especiales = df_data[df_data['nombre'].isin(nombres_interes)]\n",
    "\n",
    "df_normales = df_data[~df_data['nombre'].isin(nombres_interes)]"
   ]
  },
  {
   "cell_type": "code",
   "execution_count": 10,
   "metadata": {},
   "outputs": [],
   "source": [
    "def combinar_registros(df):\n",
    "    # Extraer el nombre base de la pizza\n",
    "    df['nombre_pizza'] = df['nombre'].str[:-3]  # Eliminar los últimos 3 caracteres (incluyendo el espacio antes de 'gr' o 'ch')\n",
    "    \n",
    "    # Crear listas vacías para almacenar los datos combinados\n",
    "    registros_combinados = []\n",
    "\n",
    "    # Iterar sobre cada nombre base de pizza único\n",
    "    for nombre_pizza in df['nombre_pizza'].unique():\n",
    "        # Filtrar registros para el nombre base de la pizza actual\n",
    "        df_pizza = df[df['nombre_pizza'] == nombre_pizza]\n",
    "        \n",
    "        # Iterar sobre cada mes único\n",
    "        for mes in df_pizza['mes'].unique():\n",
    "            # Filtrar registros para el nombre base de la pizza y mes actual\n",
    "            df_pizza_mes = df_pizza[df_pizza['mes'] == mes]\n",
    "            \n",
    "            # Encontrar las unidades y ventas de 'gr' y 'ch' para el mes actual\n",
    "            unidades_gr = df_pizza_mes[df_pizza_mes['nombre'].str.endswith('gr')]['unidades'].sum()\n",
    "            unidades_ch = df_pizza_mes[df_pizza_mes['nombre'].str.endswith('ch')]['unidades'].sum()\n",
    "            venta_gr = df_pizza_mes[df_pizza_mes['nombre'].str.endswith('gr')]['venta'].sum()\n",
    "            venta_ch = df_pizza_mes[df_pizza_mes['nombre'].str.endswith('ch')]['venta'].sum()\n",
    "\n",
    "            # Calcular las unidades y ventas totales\n",
    "            unidades_total = unidades_gr + unidades_ch\n",
    "            venta_total = venta_gr + venta_ch\n",
    "            \n",
    "            # Tomar solo un registro como base, ya que deberían ser iguales para la misma pizza y mes\n",
    "            base_registro = df_pizza_mes.iloc[0]\n",
    "            \n",
    "            # Crear un diccionario con la información combinada por mes\n",
    "            registro_combinado = {\n",
    "                'codigo': base_registro['codigo'],\n",
    "                'nombre': nombre_pizza,\n",
    "                'fecha': base_registro['fecha'],\n",
    "                'mes': mes,\n",
    "                'unidades_gr': unidades_gr,\n",
    "                'unidades_ch': unidades_ch,\n",
    "                'venta_gr': venta_gr,\n",
    "                'venta_ch': venta_ch,\n",
    "                'unidades_total': unidades_total,\n",
    "                'venta_total': venta_total\n",
    "            }\n",
    "            \n",
    "            # Agregar el registro combinado a la lista\n",
    "            registros_combinados.append(registro_combinado)\n",
    "    \n",
    "    # Convertir la lista de registros combinados en un DataFrame\n",
    "    df_combinado = pd.DataFrame(registros_combinados)\n",
    "    \n",
    "    return df_combinado\n"
   ]
  },
  {
   "cell_type": "code",
   "execution_count": 11,
   "metadata": {},
   "outputs": [
    {
     "name": "stderr",
     "output_type": "stream",
     "text": [
      "C:\\Users\\Luka\\AppData\\Local\\Temp\\ipykernel_6752\\2128083658.py:3: SettingWithCopyWarning: \n",
      "A value is trying to be set on a copy of a slice from a DataFrame.\n",
      "Try using .loc[row_indexer,col_indexer] = value instead\n",
      "\n",
      "See the caveats in the documentation: https://pandas.pydata.org/pandas-docs/stable/user_guide/indexing.html#returning-a-view-versus-a-copy\n",
      "  df['nombre_pizza'] = df['nombre'].str[:-3]  # Eliminar los últimos 3 caracteres (incluyendo el espacio antes de 'gr' o 'ch')\n"
     ]
    }
   ],
   "source": [
    "# Ejemplo de uso de la función\n",
    "df_normales = combinar_registros(df_normales)"
   ]
  },
  {
   "cell_type": "markdown",
   "metadata": {},
   "source": [
    "## Carga al Datawarehouse"
   ]
  },
  {
   "cell_type": "code",
   "execution_count": 12,
   "metadata": {},
   "outputs": [],
   "source": [
    "df_normales.to_csv(r'Datawarehouse\\pizzas_normales.csv', index=False)\n",
    "df_especiales.to_csv(r'Datawarehouse\\pizzas_especiales.csv', index=False)"
   ]
  }
 ],
 "metadata": {
  "kernelspec": {
   "display_name": "Python 3",
   "language": "python",
   "name": "python3"
  },
  "language_info": {
   "codemirror_mode": {
    "name": "ipython",
    "version": 3
   },
   "file_extension": ".py",
   "mimetype": "text/x-python",
   "name": "python",
   "nbconvert_exporter": "python",
   "pygments_lexer": "ipython3",
   "version": "3.10.11"
  }
 },
 "nbformat": 4,
 "nbformat_minor": 2
}
