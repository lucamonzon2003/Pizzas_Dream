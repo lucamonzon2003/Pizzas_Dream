{
 "cells": [
  {
   "cell_type": "markdown",
   "id": "3b1a90a2",
   "metadata": {},
   "source": [
    "# Importaciones"
   ]
  },
  {
   "cell_type": "code",
   "execution_count": null,
   "id": "fd78077d",
   "metadata": {},
   "outputs": [],
   "source": [
    "# Importamos las bibliotecas necesarias para la manipulación de datos y la visualización\n",
    "import pandas as pd\n",
    "import matplotlib.pyplot as plt"
   ]
  },
  {
   "cell_type": "code",
   "execution_count": null,
   "id": "23d29d3e",
   "metadata": {},
   "outputs": [],
   "source": [
    "# Cargamos los datos desde archivos CSV en DataFrames de pandas\n",
    "df_pizzas = pd.read_csv(r'Datawarehouse\\pizzas_normales.csv')\n",
    "df_especiales = pd.read_csv(r'Datawarehouse\\pizzas_especiales.csv')"
   ]
  },
  {
   "cell_type": "markdown",
   "id": "8ea3cd2f",
   "metadata": {},
   "source": [
    "# EDA (Análisis Exploratorio de Datos)"
   ]
  },
  {
   "cell_type": "code",
   "execution_count": null,
   "id": "c13e643a",
   "metadata": {},
   "outputs": [],
   "source": [
    "# Mostramos información general sobre el DataFrame 'df_pizzas' para entender la estructura y el contenido\n",
    "df_pizzas.info()"
   ]
  },
  {
   "cell_type": "code",
   "execution_count": null,
   "id": "51bade09",
   "metadata": {},
   "outputs": [],
   "source": [
    "# Agrupamos los datos por 'codigo' y 'nombre', y sumamos las 'unidades_total' para cada combinación\n",
    "top_pizzas_unidades = df_pizzas.groupby(['codigo', 'nombre'])['unidades_total'].sum().reset_index()"
   ]
  },
  {
   "cell_type": "code",
   "execution_count": null,
   "id": "aa3592a6",
   "metadata": {},
   "outputs": [],
   "source": [
    "# Ordenamos los resultados de mayor a menor según la columna 'unidades_total'\n",
    "top_pizzas_unidades = top_pizzas_unidades.sort_values(by='unidades_total', ascending=False)"
   ]
  },
  {
   "cell_type": "markdown",
   "id": "770931a8",
   "metadata": {},
   "source": [
    "## Top 4 Pizzas más vendidas"
   ]
  },
  {
   "cell_type": "code",
   "execution_count": null,
   "id": "7a771804",
   "metadata": {},
   "outputs": [],
   "source": [
    "# Filtramos las pizzas para obtener solo las cuatro más vendidas\n",
    "pizzas_top = df_pizzas[df_pizzas['codigo'].isin(top_pizzas_unidades['codigo'].head(4))]\n",
    "\n",
    "# Agrupamos las ventas por 'nombre' y 'mes' para obtener los datos de ventas mensuales\n",
    "ventas_por_mes = pizzas_top[['nombre', 'mes', 'unidades_total']].groupby(['nombre', 'mes']).sum().reset_index()\n",
    "\n",
    "# Obtenemos listas únicas de productos y meses\n",
    "productos = ventas_por_mes['nombre'].unique()\n",
    "\n",
    "# Ordenamos los meses correctamente\n",
    "orden_meses = ['January', 'February', 'March', 'April', 'May']\n",
    "ventas_por_mes['mes'] = pd.Categorical(ventas_por_mes['mes'], categories=orden_meses, ordered=True)"
   ]
  },
  {
   "cell_type": "code",
   "execution_count": null,
   "id": "774f110a",
   "metadata": {},
   "outputs": [],
   "source": [
    "# Configuramos el gráfico de barras para las pizzas más vendidas por mes\n",
    "plt.figure(figsize=(10, 6))\n",
    "\n",
    "# Iteramos sobre cada producto para graficar las barras\n",
    "ancho_barra = 0.2  # Ancho de cada barra\n",
    "for i, producto in enumerate(productos):\n",
    "    ventas_producto = ventas_por_mes[ventas_por_mes['nombre'] == producto].sort_values('mes')\n",
    "    posiciones_x = [pos + i * ancho_barra for pos in range(len(ventas_producto))]\n",
    "    plt.bar(posiciones_x, ventas_producto['unidades_total'], width=ancho_barra, label=producto)\n",
    "\n",
    "# Personalizamos el gráfico\n",
    "plt.xlabel('Mes')\n",
    "plt.ylabel('Unidades Vendidas')\n",
    "plt.title('Unidades Vendidas de Pizzas Más Populares por Mes')\n",
    "plt.xticks([pos + (len(productos) / 2 - 0.5) * ancho_barra for pos in range(len(orden_meses))], orden_meses)\n",
    "plt.legend()\n",
    "\n",
    "# Mostramos el gráfico\n",
    "plt.tight_layout()\n",
    "plt.show()"
   ]
  },
  {
   "cell_type": "markdown",
   "id": "1e1d31f7",
   "metadata": {},
   "source": [
    "## Proporción respecto al Total (Top 50)"
   ]
  },
  {
   "cell_type": "code",
   "execution_count": null,
   "id": "4be65b04",
   "metadata": {},
   "outputs": [],
   "source": [
    "# Calculamos la suma de 'unidades_total' para cada pizza\n",
    "pizzas_unidades = df_pizzas.groupby(['codigo', 'nombre'])['unidades_total'].sum().reset_index()\n",
    "\n",
    "# Filtramos las pizzas para obtener las 50 más vendidas\n",
    "pizzas_unidades = pizzas_unidades[pizzas_unidades['codigo'].isin(top_pizzas_unidades['codigo'].head(50))]"
   ]
  },
  {
   "cell_type": "code",
   "execution_count": null,
   "id": "6d195e2b",
   "metadata": {},
   "outputs": [],
   "source": [
    "# Calculamos el porcentaje de cada pizza respecto al total de unidades vendidas\n",
    "pizzas_unidades['porcentaje'] = (pizzas_unidades['unidades_total'] / pizzas_unidades['unidades_total'].sum()) * 100\n",
    "\n",
    "# Ordenamos los porcentajes de mayor a menor para visualización\n",
    "pizzas_unidades = pizzas_unidades.sort_values(by='porcentaje', ascending=False)\n",
    "\n",
    "# Creamos el gráfico de barras horizontales apiladas\n",
    "plt.figure(figsize=(10, 6))\n",
    "plt.barh(pizzas_unidades['nombre'], pizzas_unidades['porcentaje'], color=['b', 'g', 'r', 'c'])\n",
    "\n",
    "# Personalizamos el gráfico\n",
    "plt.xlabel('Proporción respecto al Total')\n",
    "plt.ylabel('Tipos de Pizza')\n",
    "plt.title('Proporciones de Pizzas respecto al Total (Top 50)')\n",
    "plt.xlim(0, 20)  # Establecemos límites para el eje x\n",
    "plt.grid(True, axis='x')  # Mostramos líneas de la cuadrícula en el eje x\n",
    "plt.tight_layout()\n",
    "\n",
    "# Mostramos el gráfico\n",
    "plt.show()"
   ]
  },
  {
   "cell_type": "markdown",
   "id": "cf05cf2a",
   "metadata": {},
   "source": [
    "## Total de unidades por mes"
   ]
  },
  {
   "cell_type": "code",
   "execution_count": null,
   "id": "84c9466d",
   "metadata": {},
   "outputs": [],
   "source": [
    "# Calculamos la suma de 'unidades_total' para cada mes\n",
    "unidades_totales_mes = df_pizzas.groupby('mes')['unidades_total'].sum().reset_index()\n",
    "\n",
    "# Ordenamos los meses correctamente\n",
    "orden_meses = ['January', 'February', 'March', 'April', 'May', 'June']\n",
    "unidades_totales_mes['mes'] = pd.Categorical(unidades_totales_mes['mes'], categories=orden_meses, ordered=True)\n",
    "\n",
    "# Ordenamos el DataFrame por los meses categóricos\n",
    "unidades_totales_mes = unidades_totales_mes.sort_values('mes')"
   ]
  },
  {
   "cell_type": "code",
   "execution_count": null,
   "id": "2a2e3547",
   "metadata": {},
   "outputs": [],
   "source": [
    "# Creamos el gráfico de barras para las unidades totales por mes\n",
    "plt.figure(figsize=(8, 6))\n",
    "plt.bar(unidades_totales_mes['mes'], unidades_totales_mes['unidades_total'], color='skyblue')\n",
    "\n",
    "# Personalizamos el gráfico\n",
    "plt.xlabel('Mes')\n",
    "plt.ylabel('Unidades Totales')\n",
    "plt.title('Unidades Totales por Mes')\n",
    "plt.xticks(rotation=45)  # Rotamos las etiquetas del eje x para mejor visualización si es necesario\n",
    "\n",
    "# Mostramos el gráfico\n",
    "plt.tight_layout()\n",
    "plt.show()"
   ]
  }
 ],
 "metadata": {
  "jupytext": {
   "cell_metadata_filter": "-all",
   "main_language": "python",
   "notebook_metadata_filter": "-all"
  },
  "kernelspec": {
   "display_name": "Python 3",
   "language": "python",
   "name": "python3"
  },
  "language_info": {
   "name": "python",
   "version": "3.10.11"
  }
 },
 "nbformat": 4,
 "nbformat_minor": 5
}
